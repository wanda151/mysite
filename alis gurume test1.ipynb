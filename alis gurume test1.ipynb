{
 "cells": [
  {
   "cell_type": "code",
   "execution_count": 1,
   "metadata": {},
   "outputs": [],
   "source": [
    "import urllib\n",
    "import json\n",
    "import sys\n",
    "import codecs\n",
    "import urllib.request\n",
    "import pprint\n",
    "import datetime\n",
    "import time\n",
    "from bs4 import BeautifulSoup\n",
    "import lxml.html"
   ]
  },
  {
   "cell_type": "code",
   "execution_count": 2,
   "metadata": {},
   "outputs": [],
   "source": [
    "api = 'https://alis.to/api/search/articles?tag=%E8%87%B3%E9%AB%98%E3%81%AE%E2%97%8B%E2%97%8B%E3%83%86%E3%82%B9%E3%83%88'\n",
    "#APIの/search/articlesのパラメーターに「至高の○○テスト」と入力後、queryをtagに変換"
   ]
  },
  {
   "cell_type": "code",
   "execution_count": 3,
   "metadata": {},
   "outputs": [],
   "source": [
    "url = urllib.request.urlopen(api)"
   ]
  },
  {
   "cell_type": "code",
   "execution_count": 4,
   "metadata": {},
   "outputs": [],
   "source": [
    "articles = json.loads(url.read().decode(\"utf-8\"))"
   ]
  },
  {
   "cell_type": "code",
   "execution_count": 5,
   "metadata": {},
   "outputs": [
    {
     "name": "stdout",
     "output_type": "stream",
     "text": [
      "['2xANODyYEV96', '3LqV1qnyX1Dp']\n"
     ]
    }
   ],
   "source": [
    "id = [d.get('article_id') for d in articles]\n",
    "print(id)\n",
    "#Idのみ取り出す"
   ]
  },
  {
   "cell_type": "code",
   "execution_count": 6,
   "metadata": {},
   "outputs": [
    {
     "name": "stdout",
     "output_type": "stream",
     "text": [
      "['https://alis.to/api/articles/2xANODyYEV96', 'https://alis.to/api/articles/3LqV1qnyX1Dp']\n"
     ]
    }
   ],
   "source": [
    "api2 = [\"https://alis.to/api/articles/\"+i for i in id]\n",
    "print(api2)\n",
    "#httpsを加えて、使いやすい形にする"
   ]
  },
  {
   "cell_type": "code",
   "execution_count": 7,
   "metadata": {},
   "outputs": [
    {
     "name": "stdout",
     "output_type": "stream",
     "text": [
      "[{'article_id': '2xANODyYEV96',\n",
      "  'body': '<div class=\"medium-insert-images\"><figure>\\n'\n",
      "          '    <img alt=\"\" '\n",
      "          'src=\"https://alis.to/d/api/articles_images/wand/2xANODyYEV96/720d0ddd-d2cb-4440-8318-cb411d325024.png\">\\n'\n",
      "          '        \\n'\n",
      "          '</figure></div><p>こんにちは、Wanda（<a '\n",
      "          'href=\"https://twitter.com/aliswanda151\">@aliswanda151</a>）です。</p><p><br></p><p><br></p><p><b>今朝6時ごろ（5/2）、とある方からツイッターでリプライをいただきました。</b></p><div><figure '\n",
      "          'contenteditable=\"false\">\\n'\n",
      "          '    <img alt=\"\" '\n",
      "          'src=\"https://alis.to/d/api/articles_images/wand/2xANODyYEV96/a87612ee-f019-4d02-b094-3aefde5758d1.png\">\\n'\n",
      "          '        \\n'\n",
      "          '</figure></div><p>（あまりに驚きすぎて10秒ほどフリーズしました。）</p><p><br></p><p><br></p><p><br></p><h2>ALISをしている方なら誰もが知っている、公式ALISアンバサダーの<a '\n",
      "          'href=\"https://twitter.com/Alisambassador/media\">ワイン2年生</a>さんからメッセージをいただいてしまったのです！</h2><p>記事を読んでいただいた上に、感想までいただいてしまいました(TωT)ｳﾙｳﾙ</p><p><br></p><p>ワインさんから感想いただいた記事です。</p><p><b><a '\n",
      "          'href=\"https://alis.to/me/articles/public/3LqV1qnyX1Dp\">読んだついでに「いいね！」押しちゃいますよね</a></b></p><p><a '\n",
      "          'href=\"https://alis.to/me/articles/public/3LqV1qnyX1Dp\">https://alis.to/me/articles/public/3LqV1qnyX1Dp</a></p><p><br></p><p><br></p><p>私のへっぽこ記事にまで目を通してくれるなんて感謝感激雨あられです。</p><p>これで私も立派なAlisistaですかね(笑)</p><p><br></p><p><br></p><p>ワインさんは、ALISアンバサダーとして様々な活動をされていますが、私のような、小さなAlisistaの記事まで読んでいるんですね。驚きです!!</p><p>さすが、アンバサダーです。</p><p>（偉そうにすみません汗）</p><p><br></p><h3>また、驚きと同時に、もっと良質な記事を作らねばという使命感が生まれました。<br>やはり、有名な方からの感想はモチベーションアップにつながりますね。</h3><p><br></p><p><br></p><p>ALISがこれからどのようなソーシャルメディアになっていくのか、まだまだ想像できませんが、ALISを広げていくためにはアンバサダーの力は必要不可欠です。</p><p>ワインさんのような方がアンバサダーで本当によかったなと思っています。</p><h2><b><br></b></h2><h2></h2><h3></h3><h2><b>しかし、ALISを作り上げるのはアンバサダーではありません。<br></b>発信者（Alisista）、読者が作り上げるものです。</h2><p><br></p><p>なので、ALISを盛り上げていくために、私も頑張りますよー!!</p><p><br></p><hr><p><br></p><p><b>ALISアンバサダー\\u3000'\n",
      "          'ワイン2年生さんのALISとツイッターになります。</b><br></p><p>ALIS</p><p><a '\n",
      "          'href=\"https://alis.to/users/wine\">https://alis.to/users/wine</a></p><p>ツイッター</p><p><a '\n",
      "          'href=\"https://twitter.com/Alisambassador/media\">https://twitter.com/Alisambassador/media</a></p><hr><p><br></p><p><br></p><p><br></p><p><br></p><p>長い自慢話になってしまいましたね。</p><p><br></p><p>本日の本題です。</p><p>非常に短いです。お付き合いください。<br></p><p><b><br></b></p><p><b><br></b></p><p>読者の心得についてお話します。</p><p><br></p><p>それは、</p><h2><b>気になった記事には、一言でいいから、コメントする</b></h2><p>です。<br></p><p><br></p><p>今はコメント機能がないのでコメントを書き込めませんよね。</p><h2>ただ、コメント機能が追加されたら、気になった記事には一言でいいのでコメントしましょう。</h2><p><br></p><p>なぜなら、記事向上につながるからです。良質な記事ができれば、ALISに人が集まります。発信者（Alisista）のモチベーションアップにもつながります。</p><p><br></p><p>誹謗中傷はだめですよ。それはただの嫌がらせです。双方にメリットがありませんからね。</p><p><br></p><p><br></p><p>私も一読者として、コメントしたい記事がたくさんあります。コメント機能楽しみにしています！</p><p><b><br></b></p><p><b><br></b></p><p><b>コメント機能追加されたら、ぜひ、私にもコメントください!!</b></p><h2><b><i><br></i></b></h2><p><b><i><br></i></b></p><p><b><i><br></i></b></p><p><b><i><br></i></b></p><h2><b><i>おまけ</i></b></h2><p>最近、水彩画を描くのにはまっています。</p><div '\n",
      "          'class=\"medium-insert-images medium-insert-images-grid\"><figure>\\n'\n",
      "          '    <img alt=\"\" '\n",
      "          'src=\"https://alis.to/d/api/articles_images/wand/2xANODyYEV96/84acbe5e-f64d-4c4a-9af7-45a2d52e6693.jpeg\">\\n'\n",
      "          '        \\n'\n",
      "          '</figure></div><p>今日はALISのロゴを描いてみました。</p><p><br></p><p>自慢ではないですが、学校での美術の評価は２が多かったです。<br></p><p>のびしろ\\u3000'\n",
      "          'しかないと思っています(笑)</p><p>ぜひ、記事の成長と水彩画の成長を暖かく見守ってほしいなと思います。</p><blockquote>中華そば '\n",
      "          '鍾馗<br>〒381-0000 '\n",
      "          '長野県長野市鶴賀上千歳町１３３７</blockquote><p><br></p><p><br></p><p><br></p><p><br></p><hr><div '\n",
      "          'class=\"medium-insert-images medium-insert-images-right\"><figure>\\n'\n",
      "          '    <img alt=\"\" '\n",
      "          'src=\"https://alis.to/d/api/articles_images/wand/2xANODyYEV96/6525562d-f21d-4d47-9452-4f7d553f5c89.png\">\\n'\n",
      "          '        \\n'\n",
      "          '</figure></div><p><b>Wanda</b></p><p>過去記事一覧</p><p><a '\n",
      "          'href=\"https://alis.to/users/wand\">https://alis.to/users/wand</a></p><p>ツイッター</p><p>@aliswanda151</p><p><a '\n",
      "          'href=\"https://twitter.com/aliswanda151\">https://twitter.com/aliswanda151</a></p><p>おすすめ記事</p><p><a '\n",
      "          'href=\"https://alis.to/wand/articles/K5xzVNP8yjen\">https://alis.to/wand/articles/K5xzVNP8yjen</a></p>    ',\n",
      "  'created_at': 1525278509,\n",
      "  'eye_catch_url': 'https://alis.to/d/api/articles_images/wand/2xANODyYEV96/720d0ddd-d2cb-4440-8318-cb411d325024.png',\n",
      "  'overview': 'こんにちは、Wanda（@aliswanda151）です。今朝6時ごろ（5/2）、とある方からツイッターでリプライをいただきました。（あまりに驚きすぎて10秒ほどフリーズしました。）ALISをしている',\n",
      "  'published_at': 1525280489,\n",
      "  'sort_key': 1525280489647221,\n",
      "  'status': 'public',\n",
      "  'tags': ['至高の○○テスト'],\n",
      "  'title': 'ALIS読者の心得',\n",
      "  'topic': 'gourmet',\n",
      "  'user_id': 'wand'},\n",
      " {'article_id': '3LqV1qnyX1Dp',\n",
      "  'body': '<p><br></p><div class=\"medium-insert-images\"><figure>\\n'\n",
      "          '    <img alt=\"\" '\n",
      "          'src=\"https://alis.to/d/api/articles_images/wand/3LqV1qnyX1Dp/b4a31d72-740a-4497-b51c-5c8560b14281.png\">\\n'\n",
      "          '        \\n'\n",
      "          '</figure></div><p>こんにちは、Wanda（<a '\n",
      "          'href=\"https://twitter.com/aliswanda151\">@aliswanda151</a>）です。<br></p><p><b><br></b></p><p><b>初記事が人気TOP10に入りました。</b></p><p><b>ツイッターのフォロワー数18人の私の記事がTOP10ですよ。</b></p><p><a '\n",
      "          'href=\"https://alis.to/wand/articles/3LqVePMAd6Z0\">https://alis.to/wand/articles/3LqVePMAd6Z0</a><b><br></b></p><div '\n",
      "          'class=\"medium-insert-images\"><figure>\\n'\n",
      "          '    <img alt=\"\" '\n",
      "          'src=\"https://alis.to/d/api/articles_images/wand/3LqV1qnyX1Dp/11871033-8e21-4f2d-86f9-61ac06a294bf.png\">\\n'\n",
      "          '        \\n'\n",
      "          '</figure></div><p><br></p><p><br></p><div '\n",
      "          'class=\"medium-insert-images\"><figure>\\n'\n",
      "          '    <img alt=\"\" '\n",
      "          'src=\"https://alis.to/d/api/articles_images/wand/3LqV1qnyX1Dp/a3768926-b5a7-4012-ad5c-e3f2cf41c818.png\">\\n'\n",
      "          '        \\n'\n",
      "          '</figure></div><p>影響戦闘力でいったら18です。</p><p>ALISにサイ●人がいたら「たったの18か…ゴミめ」と言われてしまいますね(笑)</p><p><br></p><p>冗談はさておき、</p><p>私、Wandaの記事を読んでいただき、本当にありがとうございます。</p><p>「いいね！」もありがとうございます。</p><p><br></p><p><br></p><p>さて本題ですが、</p><h2><b>みなさんはどんな記事に「いいね！」をしていますか？</b></h2><p>とりあえず、バーッと読んだら押しているんじゃないですか？</p><p>だって、私がそうだから。</p><p><br></p><p><br></p><p>「なんか変なことも書いてないから、いいね押しとくかな」という気分で押している人は私以外にも多いのではないでしょうか。</p><p><br></p><p><br></p><p>それも、一つの「いいね」の仕方だと思います。</p><h2><b>しかし、これから押すときには一つだけ意識してほしいことがあります。</b></h2><p><br></p><p>それは</p><h2><b>「検索機能を意識する」</b></h2><p>ということです。</p><p><br></p><p><br></p><p><b>なぜなら「いいねが伸びるから」です。</b></p><p>まだ検索機能は実装されていませんが、検索機能が付いたときのことを想像してみてください。自分の知りたい、探したいものを検索しますよね。そして、自分が探し求めていたものがあったとき、きっと書かれた記事に「いいね」を押したくなると思います</p><p><br></p><p><br></p><p>その記事はどんどんと「いいね」が増えていくでしょう。</p><p>自分が知りたいことは他の人も知りたいことだったりするのです。</p><h2>だから、これからは検索機能ができたときを考えて、「これが検索にヒットしたら嬉しいだろうな」と思うものを「いいね」することをおススメします。</h2><h2><i><br></i></h2><p><i><br></i></p><p><i><b>おまけ</b></i></p><p>「全部読んだから、とりあえず、このwandaの記事にもいいね押しとくかな」と思った方は少しだけ我慢してください。</p><p>自分で言いたくはないのですが、この記事は絶対に検索機能による恩恵は受けませんからね(笑)</p><p><br></p><p>それと、一番上の写真は私が先ほどアクリル絵の具で描いた「いいね」です。ちょっと怖い感じになっちゃってますね(笑)<br></p><p><br></p><blockquote>麺屋蕪村 '\n",
      "          '権堂店<br>〒380-0833 '\n",
      "          '長野県長野市鶴賀権堂町２２８４</blockquote><hr><p><b><br></b></p><div '\n",
      "          'class=\"medium-insert-images '\n",
      "          'medium-insert-images-right\"><b></b><figure>\\n'\n",
      "          '    <img alt=\"\" '\n",
      "          'src=\"https://alis.to/d/api/articles_images/wand/3LqV1qnyX1Dp/44c4d915-bfd3-4ee6-b791-65b316a41f35.png\">\\n'\n",
      "          '        \\n'\n",
      "          '</figure></div><p><b>Wanda</b></p><p>過去記事一覧</p><p><a '\n",
      "          'href=\"https://alis.to/users/wand\">https://alis.to/users/wand</a></p><p>ツイッター</p><p>@aliswanda151</p><p><a '\n",
      "          'href=\"https://twitter.com/aliswanda151\">https://twitter.com/aliswanda151</a></p><p>おすすめ記事</p><p><a '\n",
      "          'href=\"https://alis.to/wand/articles/K5xzVNP8yjen\">https://alis.to/wand/articles/K5xzVNP8yjen</a></p> ',\n",
      "  'created_at': 1525207883,\n",
      "  'eye_catch_url': 'https://alis.to/d/api/articles_images/wand/3LqV1qnyX1Dp/b4a31d72-740a-4497-b51c-5c8560b14281.png',\n",
      "  'overview': 'こんにちは、Wanda（@aliswanda151）です。初記事が人気TOP10に入りました。ツイッターのフォロワー数18人の私の記事がTOP10ですよ。https://alis.to/wand/ar',\n",
      "  'published_at': 1525208603,\n",
      "  'sort_key': 1525208603158551,\n",
      "  'status': 'public',\n",
      "  'tags': ['至高の○○テスト'],\n",
      "  'title': '読んだついでに「いいね！」押しちゃいますよね',\n",
      "  'topic': 'gourmet',\n",
      "  'user_id': 'wand'}]\n"
     ]
    }
   ],
   "source": [
    "articles2 = [json.loads(urllib.request.urlopen(c).read().decode(\"utf-8\")) for c in api2]\n",
    "pprint.pprint(articles2)\n",
    "#記事の本文を取りだす"
   ]
  },
  {
   "cell_type": "code",
   "execution_count": null,
   "metadata": {},
   "outputs": [],
   "source": []
  }
 ],
 "metadata": {
  "kernelspec": {
   "display_name": "Python 3",
   "language": "python",
   "name": "python3"
  },
  "language_info": {
   "codemirror_mode": {
    "name": "ipython",
    "version": 3
   },
   "file_extension": ".py",
   "mimetype": "text/x-python",
   "name": "python",
   "nbconvert_exporter": "python",
   "pygments_lexer": "ipython3",
   "version": "3.6.5"
  }
 },
 "nbformat": 4,
 "nbformat_minor": 2
}
