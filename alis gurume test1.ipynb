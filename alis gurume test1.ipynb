{
 "cells": [
  {
   "cell_type": "code",
   "execution_count": 29,
   "metadata": {},
   "outputs": [],
   "source": [
    "import urllib\n",
    "import json\n",
    "import sys\n",
    "import codecs\n",
    "import urllib.request\n",
    "import pprint\n",
    "import datetime\n",
    "import time"
   ]
  },
  {
   "cell_type": "code",
   "execution_count": 30,
   "metadata": {},
   "outputs": [],
   "source": [
    "api = 'https://alis.to/api/search/articles?tag=%E8%87%B3%E9%AB%98%E3%81%AE%E2%97%8B%E2%97%8B%E3%83%86%E3%82%B9%E3%83%88'"
   ]
  },
  {
   "cell_type": "code",
   "execution_count": 31,
   "metadata": {},
   "outputs": [],
   "source": [
    "url = urllib.request.urlopen(api)"
   ]
  },
  {
   "cell_type": "code",
   "execution_count": 32,
   "metadata": {},
   "outputs": [],
   "source": [
    "articles = json.loads(url.read().decode(\"utf-8\"))"
   ]
  },
  {
   "cell_type": "code",
   "execution_count": 33,
   "metadata": {},
   "outputs": [
    {
     "name": "stdout",
     "output_type": "stream",
     "text": [
      "['3LqV1qnyX1Dp']\n"
     ]
    }
   ],
   "source": [
    "id = [d.get('article_id') for d in articles]\n",
    "print(id)"
   ]
  },
  {
   "cell_type": "code",
   "execution_count": 34,
   "metadata": {},
   "outputs": [
    {
     "name": "stdout",
     "output_type": "stream",
     "text": [
      "['https://alis.to/api/articles/3LqV1qnyX1Dp']\n"
     ]
    }
   ],
   "source": [
    "api2 = [\"https://alis.to/api/articles/\"+i for i in id]\n",
    "print(api2)"
   ]
  },
  {
   "cell_type": "code",
   "execution_count": 35,
   "metadata": {},
   "outputs": [
    {
     "name": "stdout",
     "output_type": "stream",
     "text": [
      "[{'article_id': '3LqV1qnyX1Dp',\n",
      "  'body': '<p><br></p><div class=\"medium-insert-images\"><figure>\\n'\n",
      "          '    <img alt=\"\" '\n",
      "          'src=\"https://alis.to/d/api/articles_images/wand/3LqV1qnyX1Dp/b4a31d72-740a-4497-b51c-5c8560b14281.png\">\\n'\n",
      "          '        \\n'\n",
      "          '</figure></div><p>こんにちは、Wanda（<a '\n",
      "          'href=\"https://twitter.com/aliswanda151\">@aliswanda151</a>）です。<br></p><p><b><br></b></p><p><b>初記事が人気TOP10に入りました。</b></p><p><b>ツイッターのフォロワー数18人の私の記事がTOP10ですよ。</b></p><p><a '\n",
      "          'href=\"https://alis.to/wand/articles/3LqVePMAd6Z0\">https://alis.to/wand/articles/3LqVePMAd6Z0</a><b><br></b></p><div '\n",
      "          'class=\"medium-insert-images\"><figure>\\n'\n",
      "          '    <img alt=\"\" '\n",
      "          'src=\"https://alis.to/d/api/articles_images/wand/3LqV1qnyX1Dp/11871033-8e21-4f2d-86f9-61ac06a294bf.png\">\\n'\n",
      "          '        \\n'\n",
      "          '</figure></div><p><br></p><p><br></p><div '\n",
      "          'class=\"medium-insert-images\"><figure>\\n'\n",
      "          '    <img alt=\"\" '\n",
      "          'src=\"https://alis.to/d/api/articles_images/wand/3LqV1qnyX1Dp/a3768926-b5a7-4012-ad5c-e3f2cf41c818.png\">\\n'\n",
      "          '        \\n'\n",
      "          '</figure></div><p>影響戦闘力でいったら18です。</p><p>ALISにサイ●人がいたら「たったの18か…ゴミめ」と言われてしまいますね(笑)</p><p><br></p><p>冗談はさておき、</p><p>私、Wandaの記事を読んでいただき、本当にありがとうございます。</p><p>「いいね！」もありがとうございます。</p><p><br></p><p><br></p><p>さて本題ですが、</p><h2><b>みなさんはどんな記事に「いいね！」をしていますか？</b></h2><p>とりあえず、バーッと読んだら押しているんじゃないですか？</p><p>だって、私がそうだから。</p><p><br></p><p><br></p><p>「なんか変なことも書いてないから、いいね押しとくかな」という気分で押している人は私以外にも多いのではないでしょうか。</p><p><br></p><p><br></p><p>それも、一つの「いいね」の仕方だと思います。</p><h2><b>しかし、これから押すときには一つだけ意識してほしいことがあります。</b></h2><p><br></p><p>それは</p><h2><b>「検索機能を意識する」</b></h2><p>ということです。</p><p><br></p><p><br></p><p><b>なぜなら「いいねが伸びるから」です。</b></p><p>まだ検索機能は実装されていませんが、検索機能が付いたときのことを想像してみてください。自分の知りたい、探したいものを検索しますよね。そして、自分が探し求めていたものがあったとき、きっと書かれた記事に「いいね」を押したくなると思います</p><p><br></p><p><br></p><p>その記事はどんどんと「いいね」が増えていくでしょう。</p><p>自分が知りたいことは他の人も知りたいことだったりするのです。</p><h2>だから、これからは検索機能ができたときを考えて、「これが検索にヒットしたら嬉しいだろうな」と思うものを「いいね」することをおススメします。</h2><h2><i><br></i></h2><p><i><br></i></p><p><i><b>おまけ</b></i></p><p>「全部読んだから、とりあえず、このwandaの記事にもいいね押しとくかな」と思った方は少しだけ我慢してください。</p><p>自分で言いたくはないのですが、この記事は絶対に検索機能による恩恵は受けませんからね(笑)</p><p><br></p><p>それと、一番上の写真は私が先ほどアクリル絵の具で描いた「いいね」です。ちょっと怖い感じになっちゃってますね(笑)<br></p><p><br></p><blockquote>麺屋蕪村 '\n",
      "          '権堂店<br>〒380-0833 '\n",
      "          '長野県長野市鶴賀権堂町２２８４</blockquote><hr><p><b><br></b></p><div '\n",
      "          'class=\"medium-insert-images '\n",
      "          'medium-insert-images-right\"><b></b><figure>\\n'\n",
      "          '    <img alt=\"\" '\n",
      "          'src=\"https://alis.to/d/api/articles_images/wand/3LqV1qnyX1Dp/44c4d915-bfd3-4ee6-b791-65b316a41f35.png\">\\n'\n",
      "          '        \\n'\n",
      "          '</figure></div><p><b>Wanda</b></p><p>過去記事一覧</p><p><a '\n",
      "          'href=\"https://alis.to/users/wand\">https://alis.to/users/wand</a></p><p>ツイッター</p><p>@aliswanda151</p><p><a '\n",
      "          'href=\"https://twitter.com/aliswanda151\">https://twitter.com/aliswanda151</a></p><p>おすすめ記事</p><p><a '\n",
      "          'href=\"https://alis.to/wand/articles/K5xzVNP8yjen\">https://alis.to/wand/articles/K5xzVNP8yjen</a></p> ',\n",
      "  'created_at': 1525207883,\n",
      "  'eye_catch_url': 'https://alis.to/d/api/articles_images/wand/3LqV1qnyX1Dp/b4a31d72-740a-4497-b51c-5c8560b14281.png',\n",
      "  'overview': 'こんにちは、Wanda（@aliswanda151）です。初記事が人気TOP10に入りました。ツイッターのフォロワー数18人の私の記事がTOP10ですよ。https://alis.to/wand/ar',\n",
      "  'published_at': 1525208603,\n",
      "  'sort_key': 1525208603158551,\n",
      "  'status': 'public',\n",
      "  'tags': ['至高の○○テスト'],\n",
      "  'title': '読んだついでに「いいね！」押しちゃいますよね',\n",
      "  'topic': 'gourmet',\n",
      "  'user_id': 'wand'}]\n"
     ]
    }
   ],
   "source": [
    "articles2 = [json.loads(urllib.request.urlopen(c).read().decode(\"utf-8\")) for c in api2]\n",
    "pprint.pprint(articles2)"
   ]
  },
  {
   "cell_type": "code",
   "execution_count": null,
   "metadata": {},
   "outputs": [],
   "source": []
  }
 ],
 "metadata": {
  "kernelspec": {
   "display_name": "Python 3",
   "language": "python",
   "name": "python3"
  },
  "language_info": {
   "codemirror_mode": {
    "name": "ipython",
    "version": 3
   },
   "file_extension": ".py",
   "mimetype": "text/x-python",
   "name": "python",
   "nbconvert_exporter": "python",
   "pygments_lexer": "ipython3",
   "version": "3.6.5"
  }
 },
 "nbformat": 4,
 "nbformat_minor": 2
}
